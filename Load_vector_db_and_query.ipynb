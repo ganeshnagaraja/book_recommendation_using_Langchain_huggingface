{
 "cells": [
  {
   "cell_type": "code",
   "execution_count": 1,
   "metadata": {},
   "outputs": [],
   "source": [
    "from langchain_community.document_loaders import TextLoader\n",
    "from langchain_text_splitters import CharacterTextSplitter\n",
    "from langchain_openai import OpenAIEmbeddings\n",
    "from langchain_chroma import Chroma"
   ]
  },
  {
   "cell_type": "code",
   "execution_count": 2,
   "metadata": {},
   "outputs": [
    {
     "name": "stderr",
     "output_type": "stream",
     "text": [
      "/Users/ganeshnagaraja/miniconda3/envs/LLM/lib/python3.10/site-packages/tqdm/auto.py:21: TqdmWarning: IProgress not found. Please update jupyter and ipywidgets. See https://ipywidgets.readthedocs.io/en/stable/user_install.html\n",
      "  from .autonotebook import tqdm as notebook_tqdm\n"
     ]
    },
    {
     "name": "stdout",
     "output_type": "stream",
     "text": [
      "load INSTRUCTOR_Transformer\n",
      "max_seq_length  512\n"
     ]
    },
    {
     "name": "stderr",
     "output_type": "stream",
     "text": [
      "/Users/ganeshnagaraja/miniconda3/envs/LLM/lib/python3.10/site-packages/sentence_transformers/models/Dense.py:63: FutureWarning: You are using `torch.load` with `weights_only=False` (the current default value), which uses the default pickle module implicitly. It is possible to construct malicious pickle data which will execute arbitrary code during unpickling (See https://github.com/pytorch/pytorch/blob/main/SECURITY.md#untrusted-models for more details). In a future release, the default value for `weights_only` will be flipped to `True`. This limits the functions that could be executed during unpickling. Arbitrary objects will no longer be allowed to be loaded via this mode unless they are explicitly allowlisted by the user via `torch.serialization.add_safe_globals`. We recommend you start setting `weights_only=True` for any use case where you don't have full control of the loaded file. Please open an issue on GitHub for any issues related to this experimental feature.\n",
      "  model.load_state_dict(torch.load(os.path.join(input_path, 'pytorch_model.bin'), map_location=torch.device('cpu')))\n"
     ]
    }
   ],
   "source": [
    "# Creating opensource emebdding using Huggingface instead of OpenAI embeddings\n",
    "from langchain.embeddings import HuggingFaceInstructEmbeddings\n",
    "from huggingface_hub import HfApi, HfFolder, Repository, hf_hub_url\n",
    "from huggingface_hub import cached_download\n",
    "\n",
    "instructor_embeddings = HuggingFaceInstructEmbeddings(model_name='hkunlp/instructor-xl', model_kwargs={\"device\": \"mps\"}, encode_kwargs = {'normalize_embeddings': True})"
   ]
  },
  {
   "cell_type": "code",
   "execution_count": 3,
   "metadata": {},
   "outputs": [],
   "source": [
    "db_books = Chroma(persist_directory=\"db\", embedding_function=instructor_embeddings)"
   ]
  },
  {
   "cell_type": "code",
   "execution_count": 5,
   "metadata": {},
   "outputs": [
    {
     "data": {
      "text/plain": [
       "[Document(id='e7c84ae3-d07d-4907-bceb-9ab5c1a2c9ee', metadata={'source': 'tagged_description.txt'}, page_content='9780786808069 Children will discover the exciting world of their own backyard in this introduction to familiar animals from cats and dogs to bugs and frogs. The combination of photographs, illustrations, and fun facts make this an accessible and delightful learning experience.'),\n",
       " Document(id='c14b814a-b798-4685-ad58-f0840321b02d', metadata={'source': 'tagged_description.txt'}, page_content=\"9780786808380 Introduce your babies to birds, cats, dogs, and babies through fine art, illustration, and photographs. These books are a rare opportunity to expose little ones to a range of images on a single subject, from simple child's drawings and abstract art to playful photos. A brief text accompanies each image, introducing the baby to some basic -- and sometimes playful -- information about the subjects.\"),\n",
       " Document(id='0dab0e86-8cc0-4bd1-a0d8-0b8525954c76', metadata={'source': 'tagged_description.txt'}, page_content=\"9780786808397 Introduce your baby to birds, cats, dogs, and babies through fine art, illustration, and photographs. These books are a rare opportunity to exopse little ones to a range of images on a single subject, from simple child's drawings and abstract art to playful photos. A brief text accompanies each image, introducing baby to some basic -- and sometimes playful -- information about the subjects.\"),\n",
       " Document(id='8c5a4472-cf51-4f23-afff-6379e42854a6', metadata={'source': 'tagged_description.txt'}, page_content=\"9780786808373 Introducing your baby to birds, cats, dogs, and babies through fine art, illsutration and photographs. These books are a rare opportunity to expose little ones to a range of images on a single subject, from simple child's drawings and abstract art to playful photos. A brief text accompanies each image, introducing baby to some basic -- and sometimes playful -- information on the subjects.\"),\n",
       " Document(id='058bffde-d735-42d4-9840-51e5da70ad7e', metadata={'source': 'tagged_description.txt'}, page_content='\"9780067575208 First published more than three decades ago, this reissue of Rachel Carson\\'s award-winning classic brings her unique vision to a new generation of readers. Stunning new photographs by Nick Kelsh beautifully complement Carson\\'s intimate account of adventures with her young nephew, Roger, as they enjoy walks along the rocky coast of Maine and through dense forests and open fields, observing wildlife, strange plants, moonlight and storm clouds, and listening to the \"\"living music\"\" of insects in the underbrush. \"\"If a child is to keep alive his inborn sense of wonder.\"\" Writes Carson, \"\"he needs the companionship of at least one adult who can share it, rediscovering with him the joy, excitement and mystery of the world we live in.\"\" The Sense of Wonder is a refreshing antidote to indifference and a guide to capturing the simple power of discovery that Carson views as essential to life. In her insightful new introduction, Linda Lear remembers Rachel Carson\\'s groundbreaking achievements in the context of the legendary environmentalist\\'s personal commitment to introducing young and old to the miracles of nature. Kelsh\\'s lush photographs inspire sensual, tactile reactions: masses of leaves floating in a puddle are just waiting to be scooped up and examined more closely. An image of a narrow path through the trees evokes the earthy scent of the woods after a summer rain. Close-ups of mosses and miniature lichen fantasy-lands will spark innocent\\'as well as more jaded\\'imaginations. Like a curious child studying things underfoot and within reach, Kelsh\\'s camera is drawn to patterns in nature that too often elude hurried adults\\'a stand of beech trees in the springtime, patches of melting snow and the ripples from a pebble tossed into a slow-moving stream. The Sense of Wonder is a timeless volume that will be passed on from children to grandchildren, as treasured as the memory of an early-morning walk when the song of a whippoorwill was heard as if for the first time.\"'),\n",
       " Document(id='e9578235-c23e-4b56-b23d-92b1979291c8', metadata={'source': 'tagged_description.txt'}, page_content=\"9780689823824 Here is a delightful look at childhood, written by master poet and storyteller Robert Louis Stevenson. In this collection of sixty-six poems, Stevenson recalls the joys of his childhood, from sailing boats down a river, to waiting for the lamplighter, to sailing off to foreign lands in his imagination. Tasha Tudor's watercolor paintings evoke a simpler time in the past, and celebrate two of the things she loves most -- children and nature. Her talents are the perfect match for these inspiring poems, making this a handsome gift edition that will be cherished by families for generations.\"),\n",
       " Document(id='f694178c-a9a5-4f31-944d-c354f538f058', metadata={'source': 'tagged_description.txt'}, page_content=\"9780941807555 THE LITTLE BIG BOOK FOR GOD'S CHILDREN is a wonderful resource for parents looking to introduce their children to the wisdom and beauty of Christian faith. Illustrated with early twentieth-century art from artists such as Jessie Wilcox Smith, Ellen H. Clapsaddle, and Maud and Miska Petersham, this Little Big Book presents selected bible stories, parables, and verses; poems and prayers; excerpts and fables; songs and hymns; and activities - all collected in one delightful volume. A celebration of God's enduring message of love, GOD'S CHILDREN is sure to provide an endless wellspring of inspiration and hope.\"),\n",
       " Document(id='c0affa0f-1302-4c3e-929f-76df9944352d', metadata={'source': 'tagged_description.txt'}, page_content=\"9780689861130 Children will love joining in and imitating the animal noises and sounds in this big, bold board book format, illustrated with Sandra Boynton's seriously silly signature animals.\"),\n",
       " Document(id='ca261e3c-7666-48ca-8528-ccf3b7277309', metadata={'source': 'tagged_description.txt'}, page_content=\"9780241003008 Eric Carle's children's classic is the story of a very small and very hungry caterpillar who manages to nibble his way through the pages of this enchanting book.\"),\n",
       " Document(id='f0bb412c-88cc-4f17-a8ee-d19842d1dcfd', metadata={'source': 'tagged_description.txt'}, page_content='9780764122781 Titles in this series present basic information on reptiles plus specific instructions for their care. Each book opens with a description of the animal as it exists in its natural habitat, then continues with information on its life cycle and distribution in nature. Readers then get advice on selecting a good specimen, determining sex, and providing proper housing, feeding, and health care. Books are heavily illustrated with instructive color photos.')]"
      ]
     },
     "execution_count": 5,
     "metadata": {},
     "output_type": "execute_result"
    }
   ],
   "source": [
    "query = \"A book to teach children about nature\"\n",
    "docs = db_books.similarity_search(query, k=10)\n",
    "docs"
   ]
  },
  {
   "cell_type": "code",
   "execution_count": null,
   "metadata": {},
   "outputs": [],
   "source": []
  }
 ],
 "metadata": {
  "kernelspec": {
   "display_name": "LLM",
   "language": "python",
   "name": "python3"
  },
  "language_info": {
   "codemirror_mode": {
    "name": "ipython",
    "version": 3
   },
   "file_extension": ".py",
   "mimetype": "text/x-python",
   "name": "python",
   "nbconvert_exporter": "python",
   "pygments_lexer": "ipython3",
   "version": "3.10.16"
  }
 },
 "nbformat": 4,
 "nbformat_minor": 2
}
